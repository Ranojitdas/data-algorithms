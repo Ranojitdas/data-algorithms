{
  "cells": [
    {
      "cell_type": "markdown",
      "metadata": {
        "id": "JKZdFyzZnjPu"
      },
      "source": [
        "\n",
        "# Introdução à Ciência de Dados - UFPB\n",
        "Professor: Yuri Malheiros\n",
        "\n",
        "## Python - Random - Exercício"
      ]
    },
    {
      "cell_type": "markdown",
      "metadata": {
        "id": "816AH-OenjP0"
      },
      "source": [
        "Implemente a função `generate_password` que deve gerar uma senha aleatória.\n",
        "\n",
        "A função tem tres parâmetros:\n",
        "\n",
        "- `n_chars` especifica o tamanho da senha gerada\n",
        "- `use_numbers` especifica se números podem ser usados na senha. Por padrão, esse parâmetro tem valor True\n",
        "- `use_special_chars` especifica se caracteres especiais, por exemplo !#%&@?, pode ser usados na senha. Por padrão, esse parâmetro tem valor True\n",
        "\n",
        "Note que se `use_numbers` e `use_special_chars` tiverem valor False, a senha terá apenas letras maiúsculas ou minúsculas."
      ]
    },
    {
      "cell_type": "code",
      "execution_count": 10,
      "metadata": {
        "id": "lilJnpf0njP2"
      },
      "outputs": [],
      "source": [
        "import random\n",
        "\n",
        "\"\"\"\n",
        "string.ascii_letters # abcdefghijklmnopqrstuvwxyzABCDEFGHIJKLMNOPQRSTUVWXYZ\n",
        "string.digits # 0123456789\n",
        "string.punctuation # <=>?@[\\]^_`{|}~.\n",
        "\"\"\"\n",
        "\n",
        "def generate_password(n_chars, use_numbers=True, use_special_chars=True):\n",
        "  from random import choice\n",
        "  import string\n",
        "\n",
        "  tudo = string.ascii_letters + string.digits + string.punctuation\n",
        "  alfabeto_e_pontuacoes = string.ascii_letters +  string.punctuation\n",
        "  somente_alfabeto = string.ascii_letters\n",
        " \n",
        "  senha = ''\n",
        "  for i in range(n_chars):\n",
        "    if use_numbers:\n",
        "      senha += choice(tudo)\n",
        "    elif use_numbers == False and use_special_chars:\n",
        "      senha += choice(alfabeto_e_pontuacoes)\n",
        "    else:\n",
        "      senha += choice(somente_alfabeto)\n",
        "  return senha\n",
        "\n"
      ]
    },
    {
      "cell_type": "code",
      "execution_count": 21,
      "metadata": {
        "colab": {
          "base_uri": "https://localhost:8080/"
        },
        "id": "865urXiFnjP3",
        "outputId": "25ef7dd9-b46b-49c5-a429-39c6226319c5"
      },
      "outputs": [
        {
          "name": "stdout",
          "output_type": "stream",
          "text": [
            "qCT8ZA`HIt\n",
            "WyQ!+i(y'&\n",
            "qbSpAreWRh\n"
          ]
        }
      ],
      "source": [
        "print(generate_password(10))\n",
        "print(generate_password(10, use_numbers=False))\n",
        "print(generate_password(10, use_numbers=False, use_special_chars=False))"
      ]
    },
    {
      "cell_type": "code",
      "execution_count": null,
      "metadata": {},
      "outputs": [],
      "source": []
    }
  ],
  "metadata": {
    "colab": {
      "collapsed_sections": [],
      "name": "Lista_2_ICD _Yhasmim_Tigre.ipynb",
      "provenance": []
    },
    "interpreter": {
      "hash": "916dbcbb3f70747c44a77c7bcd40155683ae19c65e1c03b4aa3499c5328201f1"
    },
    "kernelspec": {
      "display_name": "icd",
      "language": "python",
      "name": "python3"
    },
    "language_info": {
      "codemirror_mode": {
        "name": "ipython",
        "version": 3
      },
      "file_extension": ".py",
      "mimetype": "text/x-python",
      "name": "python",
      "nbconvert_exporter": "python",
      "pygments_lexer": "ipython3",
      "version": "3.8.10"
    }
  },
  "nbformat": 4,
  "nbformat_minor": 0
}

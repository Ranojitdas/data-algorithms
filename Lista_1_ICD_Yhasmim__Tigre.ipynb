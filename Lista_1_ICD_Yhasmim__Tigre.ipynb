{
  "cells": [
    {
      "cell_type": "markdown",
      "metadata": {
        "id": "v5SkI8vU5yaP"
      },
      "source": [
        "# Introdução à Ciência de Dados - UFPB\n",
        "Professor: Yuri Malheiros\n",
        "\n",
        "## Python - Listas - Exercício"
      ]
    },
    {
      "cell_type": "markdown",
      "metadata": {
        "id": "JvCY_J-t5yaU"
      },
      "source": [
        "Utilizando o resultado do processamento da lista de músicas, vamos implementar duas funções."
      ]
    },
    {
      "cell_type": "code",
      "execution_count": 27,
      "metadata": {
        "id": "ARj8dgTs5yaV"
      },
      "outputs": [],
      "source": [
        "top_10 = [\"Tones and I - Dance Monkey\", \"Lady Gaga, Ariana Grande - Rain on Me\",\n",
        "          \"Justin Bieber - Yummy\", \"MISCHO - Photon Love\", \"Dua Lipa - Break My Heart\",\n",
        "          \"Lady Gaga, BLACKPINK - Sour Candy\", \"Dua Lipa - Don't Start Now\",\n",
        "          \"Justin Bieber, Quavo - Intentions\", \"Doja Cat - Say So\",\n",
        "          \"Karol G, Nicki Minaj - Tusa\", \"Benee, Gus Dapperton - Supalonely\"]"
      ]
    },
    {
      "cell_type": "code",
      "execution_count": 28,
      "metadata": {
        "id": "_vbLfSjz5yaW",
        "colab": {
          "base_uri": "https://localhost:8080/"
        },
        "outputId": "0ed3616a-b74f-4ba4-b290-459992c83779"
      },
      "outputs": [
        {
          "output_type": "execute_result",
          "data": {
            "text/plain": [
              "[{'artist': 'Tones and I', 'song': 'Dance Monkey'},\n",
              " {'artist': 'Lady Gaga, Ariana Grande', 'song': 'Rain on Me'},\n",
              " {'artist': 'Justin Bieber', 'song': 'Yummy'},\n",
              " {'artist': 'MISCHO', 'song': 'Photon Love'},\n",
              " {'artist': 'Dua Lipa', 'song': 'Break My Heart'},\n",
              " {'artist': 'Lady Gaga, BLACKPINK', 'song': 'Sour Candy'},\n",
              " {'artist': 'Dua Lipa', 'song': \"Don't Start Now\"},\n",
              " {'artist': 'Justin Bieber, Quavo', 'song': 'Intentions'},\n",
              " {'artist': 'Doja Cat', 'song': 'Say So'},\n",
              " {'artist': 'Karol G, Nicki Minaj', 'song': 'Tusa'},\n",
              " {'artist': 'Benee, Gus Dapperton', 'song': 'Supalonely'}]"
            ]
          },
          "metadata": {},
          "execution_count": 28
        }
      ],
      "source": [
        "top_10_dict = [{\"artist\": x.split(\" - \")[0], \"song\": x.split(\" - \")[1]} for x in top_10]\n",
        "top_10_dict"
      ]
    },
    {
      "cell_type": "markdown",
      "metadata": {
        "id": "pzyYXXqc5yaX"
      },
      "source": [
        "As funções possuem um comentário de doctest que serve para testá-la. Por favor, não apague o comentário após a a definição da função.\n",
        "\n",
        "Você pode conferir se a implementação está correta executando a última célula deste notebook."
      ]
    },
    {
      "cell_type": "markdown",
      "metadata": {
        "id": "gW3M955w5yaX"
      },
      "source": [
        "A função `get_songs` vai receber a lista `top_10_dict` como parâmetro. Escreva o código para que ela retorne uma lista com todas as músicas:"
      ]
    },
    {
      "cell_type": "code",
      "execution_count": 43,
      "metadata": {
        "id": "L0DUkoNo5yaY"
      },
      "outputs": [],
      "source": [
        "def get_songs(music_dict):\n",
        "  \n",
        "    \"\"\"\n",
        "    >>> get_songs(top_10_dict)\n",
        "    ['Dance Monkey', 'Rain on Me', 'Yummy', 'Photon Love', 'Break My Heart', 'Sour Candy', \"Don't Start Now\", 'Intentions', 'Say So', 'Tusa', 'Supalonely']\n",
        "    \"\"\"\n",
        "\n",
        "    # ADICIONE O SEU CÓDIGO AQUI\n",
        "    music_dict = [i.split(\" - \")[1] for i in top_10]\n",
        "    return music_dict\n",
        "\n"
      ]
    },
    {
      "cell_type": "code",
      "source": [
        ""
      ],
      "metadata": {
        "id": "s-CpA9UrEX0U"
      },
      "execution_count": null,
      "outputs": []
    },
    {
      "cell_type": "code",
      "execution_count": 44,
      "metadata": {
        "id": "mYmuc1oD5yaZ",
        "colab": {
          "base_uri": "https://localhost:8080/"
        },
        "outputId": "6890446a-3703-4c71-c8f3-f292e16e488e"
      },
      "outputs": [
        {
          "output_type": "execute_result",
          "data": {
            "text/plain": [
              "['Dance Monkey',\n",
              " 'Rain on Me',\n",
              " 'Yummy',\n",
              " 'Photon Love',\n",
              " 'Break My Heart',\n",
              " 'Sour Candy',\n",
              " \"Don't Start Now\",\n",
              " 'Intentions',\n",
              " 'Say So',\n",
              " 'Tusa',\n",
              " 'Supalonely']"
            ]
          },
          "metadata": {},
          "execution_count": 44
        }
      ],
      "source": [
        "get_songs(top_10_dict)"
      ]
    },
    {
      "cell_type": "markdown",
      "metadata": {
        "id": "zpvdYvjk5yaZ"
      },
      "source": [
        "A função `get_artists` vai receber a lista `top_10_dict` como parâmetro. Escreva o código para que ela retorne uma lista com todos os artistas. Atenção, algumas músicas possuem mais de um artista, eles são separados por vírgula. A função abaixo deve separar os artistas."
      ]
    },
    {
      "cell_type": "code",
      "execution_count": 75,
      "metadata": {
        "id": "jmxhDFV45yaa"
      },
      "outputs": [],
      "source": [
        "def get_artists(music_dict):\n",
        "    \"\"\"\n",
        "    >>> get_artists(top_10_dict)\n",
        "    ['Tones and I', 'Lady Gaga', 'Ariana Grande', 'Justin Bieber', 'MISCHO', 'Dua Lipa', 'Lady Gaga', 'BLACKPINK', 'Dua Lipa', 'Justin Bieber', 'Quavo', 'Doja Cat', 'Karol G', 'Nicki Minaj', 'Benee', 'Gus Dapperton']\n",
        "    \"\"\"\n",
        "\n",
        "    # ADICIONE O SEU CÓDIGO AQUI    \n",
        "    music_dict = [i.split(\" - \")[0] for i in top_10]\n",
        "    artista = [i.split(\", \") for i in music_dict]\n",
        "    art = [x for i in artista for x in i]\n",
        "    return art\n"
      ]
    },
    {
      "cell_type": "code",
      "execution_count": 76,
      "metadata": {
        "id": "1_0A7TL35yaa",
        "colab": {
          "base_uri": "https://localhost:8080/"
        },
        "outputId": "f0c2257d-e802-42fe-f659-2379ef1b3496"
      },
      "outputs": [
        {
          "output_type": "execute_result",
          "data": {
            "text/plain": [
              "['Tones and I',\n",
              " 'Lady Gaga',\n",
              " 'Ariana Grande',\n",
              " 'Justin Bieber',\n",
              " 'MISCHO',\n",
              " 'Dua Lipa',\n",
              " 'Lady Gaga',\n",
              " 'BLACKPINK',\n",
              " 'Dua Lipa',\n",
              " 'Justin Bieber',\n",
              " 'Quavo',\n",
              " 'Doja Cat',\n",
              " 'Karol G',\n",
              " 'Nicki Minaj',\n",
              " 'Benee',\n",
              " 'Gus Dapperton']"
            ]
          },
          "metadata": {},
          "execution_count": 76
        }
      ],
      "source": [
        "get_artists(top_10_dict)"
      ]
    },
    {
      "cell_type": "markdown",
      "metadata": {
        "id": "1E_zNEzJ5yab"
      },
      "source": [
        "## Teste"
      ]
    },
    {
      "cell_type": "code",
      "execution_count": 77,
      "metadata": {
        "id": "INNMTRfA5yab",
        "colab": {
          "base_uri": "https://localhost:8080/"
        },
        "outputId": "acf4a933-0759-4fc3-9504-5cf9f8f84303"
      },
      "outputs": [
        {
          "output_type": "stream",
          "name": "stderr",
          "text": [
            "\n",
            "PYDEV DEBUGGER WARNING:\n",
            "sys.settrace() should not be used when the debugger is being used.\n",
            "This may cause the debugger to stop working correctly.\n",
            "If this is needed, please check: \n",
            "http://pydev.blogspot.com/2007/06/why-cant-pydev-debugger-work-with.html\n",
            "to see how to restore the debug tracing back correctly.\n",
            "Call Location:\n",
            "  File \"/usr/lib/python3.7/doctest.py\", line 1487, in run\n",
            "    sys.settrace(save_trace)\n",
            "\n"
          ]
        },
        {
          "output_type": "stream",
          "name": "stdout",
          "text": [
            "Trying:\n",
            "    get_songs(top_10_dict)\n",
            "Expecting:\n",
            "    ['Dance Monkey', 'Rain on Me', 'Yummy', 'Photon Love', 'Break My Heart', 'Sour Candy', \"Don't Start Now\", 'Intentions', 'Say So', 'Tusa', 'Supalonely']\n",
            "ok\n",
            "Trying:\n",
            "    get_artists(top_10_dict)\n",
            "Expecting:\n",
            "    ['Tones and I', 'Lady Gaga', 'Ariana Grande', 'Justin Bieber', 'MISCHO', 'Dua Lipa', 'Lady Gaga', 'BLACKPINK', 'Dua Lipa', 'Justin Bieber', 'Quavo', 'Doja Cat', 'Karol G', 'Nicki Minaj', 'Benee', 'Gus Dapperton']\n",
            "ok\n",
            "Trying:\n",
            "    get_songs(top_10_dict)\n",
            "Expecting:\n",
            "    ['Dance Monkey', 'Rain on Me', 'Yummy', 'Photon Love', 'Break My Heart', 'Sour Candy', \"Don't Start Now\", 'Intentions', 'Say So', 'Tusa', 'Supalonely']\n",
            "ok\n",
            "3 items passed all tests:\n",
            "   1 tests in __main__\n",
            "   1 tests in __main__.get_artists\n",
            "   1 tests in __main__.get_songs\n",
            "3 tests in 3 items.\n",
            "3 passed and 0 failed.\n",
            "Test passed.\n"
          ]
        },
        {
          "output_type": "execute_result",
          "data": {
            "text/plain": [
              "TestResults(failed=0, attempted=3)"
            ]
          },
          "metadata": {},
          "execution_count": 77
        }
      ],
      "source": [
        "import doctest\n",
        "\n",
        "doctest.testmod(verbose=True)"
      ]
    }
  ],
  "metadata": {
    "kernelspec": {
      "display_name": "icd",
      "language": "python",
      "name": "icd"
    },
    "language_info": {
      "codemirror_mode": {
        "name": "ipython",
        "version": 3
      },
      "file_extension": ".py",
      "mimetype": "text/x-python",
      "name": "python",
      "nbconvert_exporter": "python",
      "pygments_lexer": "ipython3",
      "version": "3.7.7"
    },
    "colab": {
      "name": "Lista-1-ICD_Yhasmim_ Tigre.ipynb",
      "provenance": [],
      "collapsed_sections": []
    }
  },
  "nbformat": 4,
  "nbformat_minor": 0
}
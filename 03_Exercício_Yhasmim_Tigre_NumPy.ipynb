{
  "cells": [
    {
      "cell_type": "markdown",
      "metadata": {
        "id": "ikURcGnkddtZ"
      },
      "source": [
        "# Introdução à Ciência de Dados - UFPB\n",
        "Professor: Yuri Malheiros\n",
        "\n",
        "## NumPy"
      ]
    },
    {
      "cell_type": "markdown",
      "metadata": {
        "id": "HbkbC42Bddtd"
      },
      "source": [
        "Implemente a função `distance` abaixo. Ela deve receber dois pontos e retornar a distância euclidiana entre eles. Cada ponto é representado por um array do NumPy, por exemplo, `p1 = np.array([2,4])` representa o ponto com coordenadas `x=2` e `y=2`."
      ]
    },
    {
      "cell_type": "code",
      "execution_count": null,
      "metadata": {
        "id": "_9qiROCvddte",
        "colab": {
          "base_uri": "https://localhost:8080/"
        },
        "outputId": "99b52f7e-fb40-4e76-f04d-36e31df6101b"
      },
      "outputs": [
        {
          "output_type": "stream",
          "name": "stdout",
          "text": [
            "digite o valor de x e y do primeiro ponto:0 0\n",
            "digite o valor de x e y do segundo ponto:1 1\n",
            "A distancia entre os pontos é de:  1.4142135623730951\n"
          ]
        }
      ],
      "source": [
        "import numpy as np\n",
        "\n",
        "x, y  = input(\"digite o valor de x e y do primeiro ponto:\" ).split()\n",
        "k, w = input(\"digite o valor de x e y do segundo ponto:\" ).split()\n",
        "p1 = np.array((x, y), dtype = int)\n",
        "p2 = np.array((k, w), dtype = int)\n",
        "distancia = 0\n",
        "\n",
        "def distance(p1, p2):\n",
        "    \"\"\"\n",
        "    >>> distance(np.array([0,0]), np.array([1,1]))\n",
        "    1.4142135623730951\n",
        "    \n",
        "    >>> distance(np.array([1,2]), np.array([3,4]))\n",
        "    2.8284271247461903\n",
        "    \n",
        "    >>> distance(np.array([5,2]), np.array([-2,-1]))\n",
        "    7.615773105863909\n",
        "    \"\"\"\n",
        "\n",
        "    # ADICIONE O SEU CÓDIGO AQUI\n",
        "    print (\"A distancia entre os pontos é de: \", np.sqrt(np.sum((p1 - p2) ** 2)))\n",
        "\n",
        "distance (p1, p2)\n"
      ]
    },
    {
      "cell_type": "markdown",
      "metadata": {
        "id": "4MNQiN52ddtg"
      },
      "source": [
        "Implemente a função `n_distances` abaixo. Ela recebe um ponto (`p1`), como um array do NumPy, e uma lista de pontos (`points`), uma matriz do NumPy, onde cada linha representa um ponto.\n",
        "\n",
        "Esta função deve retornar a distância de `p1` para todos os pontos da matriz `points`. O retorno também é uma matriz, onde cada linha tem a distância de `p1` para o ponto daquela linha."
      ]
    },
    {
      "cell_type": "code",
      "execution_count": 19,
      "metadata": {
        "id": "uMULhK93ddth",
        "colab": {
          "base_uri": "https://localhost:8080/"
        },
        "outputId": "d1004286-4613-4812-f0f5-79931f52a59e"
      },
      "outputs": [
        {
          "output_type": "stream",
          "name": "stdout",
          "text": [
            "digite o valor de x e y do ponto 1:0 0 \n",
            "Digite o numero de linhas:2\n",
            "Digite o numero de colunas:2\n",
            "Digite os numeros para a matriz:: \n",
            "1 1 2 2\n",
            "Essa é a distancia entre o ponto 1 e os pontos na matiz:  [[1.41421356]\n",
            " [2.82842712]]\n"
          ]
        }
      ],
      "source": [
        "import numpy as np\n",
        "\n",
        "x, y = input(\"digite o valor de x e y do ponto 1:\" ).split()\n",
        "p1 = np.array((x, y), dtype = int)\n",
        "\n",
        "linha = int(input(\"Digite o numero de linhas:\"))\n",
        "coluna = int(input(\"Digite o numero de colunas:\"))\n",
        "\n",
        "print(\"Digite os numeros para a matriz:: \")\n",
        "\n",
        "m = list(map(int, input().split()))\n",
        "\n",
        "points = np.array(m).reshape(linha, coluna)\n",
        "\n",
        "def n_distances(p1, points):\n",
        "    \"\"\"\n",
        "    >>> n_distances(np.array([0,0]), np.array([[1,1]]))\n",
        "    array([1.41421356])\n",
        "    \n",
        "    >>> n_distances(np.array([0,0]), np.array([[1,1], [2,2]]))\n",
        "    array([1.41421356, 2.82842712])\n",
        "    \n",
        "    >>> n_distances(np.array([1,2]), np.array([[3,-1], [2,1], [5, 2], [10, 1], [-2, -5]]))\n",
        "    array([3.60555128, 1.41421356, 4.        , 9.05538514, 7.61577311])\n",
        "    \"\"\"\n",
        "    \n",
        "    # ADICIONE O SEU CÓDIGO AQUI\n",
        "   \n",
        "    print(\"Essa é a distancia entre o ponto 1 e os pontos na matiz: \", np.linalg.norm(p1 - points[:,None], axis=-1))\n",
        "\n",
        "n_distances(p1, points)"
      ]
    },
    {
      "cell_type": "markdown",
      "metadata": {
        "id": "zyrXj8IDddth"
      },
      "source": [
        "## Teste"
      ]
    },
    {
      "cell_type": "code",
      "execution_count": 20,
      "metadata": {
        "id": "fvhK5FNkddti",
        "colab": {
          "base_uri": "https://localhost:8080/"
        },
        "outputId": "d27c4584-931c-49eb-b77d-1dfc3cf3d2f9"
      },
      "outputs": [
        {
          "output_type": "stream",
          "name": "stderr",
          "text": [
            "\n",
            "PYDEV DEBUGGER WARNING:\n",
            "sys.settrace() should not be used when the debugger is being used.\n",
            "This may cause the debugger to stop working correctly.\n",
            "If this is needed, please check: \n",
            "http://pydev.blogspot.com/2007/06/why-cant-pydev-debugger-work-with.html\n",
            "to see how to restore the debug tracing back correctly.\n",
            "Call Location:\n",
            "  File \"/usr/lib/python3.7/doctest.py\", line 1487, in run\n",
            "    sys.settrace(save_trace)\n",
            "\n"
          ]
        },
        {
          "output_type": "stream",
          "name": "stdout",
          "text": [
            "Trying:\n",
            "    n_distances(np.array([0,0]), np.array([[1,1]]))\n",
            "Expecting:\n",
            "    array([1.41421356])\n",
            "**********************************************************************\n",
            "File \"__main__\", line 18, in __main__.n_distances\n",
            "Failed example:\n",
            "    n_distances(np.array([0,0]), np.array([[1,1]]))\n",
            "Expected:\n",
            "    array([1.41421356])\n",
            "Got:\n",
            "    Essa é a distancia entre o ponto 1 e os pontos na matiz:  [[1.41421356]]\n",
            "Trying:\n",
            "    n_distances(np.array([0,0]), np.array([[1,1], [2,2]]))\n",
            "Expecting:\n",
            "    array([1.41421356, 2.82842712])\n",
            "**********************************************************************\n",
            "File \"__main__\", line 21, in __main__.n_distances\n",
            "Failed example:\n",
            "    n_distances(np.array([0,0]), np.array([[1,1], [2,2]]))\n",
            "Expected:\n",
            "    array([1.41421356, 2.82842712])\n",
            "Got:\n",
            "    Essa é a distancia entre o ponto 1 e os pontos na matiz:  [[1.41421356]\n",
            "     [2.82842712]]\n",
            "Trying:\n",
            "    n_distances(np.array([1,2]), np.array([[3,-1], [2,1], [5, 2], [10, 1], [-2, -5]]))\n",
            "Expecting:\n",
            "    array([3.60555128, 1.41421356, 4.        , 9.05538514, 7.61577311])\n",
            "**********************************************************************\n",
            "File \"__main__\", line 24, in __main__.n_distances\n",
            "Failed example:\n",
            "    n_distances(np.array([1,2]), np.array([[3,-1], [2,1], [5, 2], [10, 1], [-2, -5]]))\n",
            "Expected:\n",
            "    array([3.60555128, 1.41421356, 4.        , 9.05538514, 7.61577311])\n",
            "Got:\n",
            "    Essa é a distancia entre o ponto 1 e os pontos na matiz:  [[3.60555128]\n",
            "     [1.41421356]\n",
            "     [4.        ]\n",
            "     [9.05538514]\n",
            "     [7.61577311]]\n",
            "1 items had no tests:\n",
            "    __main__\n",
            "**********************************************************************\n",
            "1 items had failures:\n",
            "   3 of   3 in __main__.n_distances\n",
            "3 tests in 2 items.\n",
            "0 passed and 3 failed.\n",
            "***Test Failed*** 3 failures.\n"
          ]
        },
        {
          "output_type": "execute_result",
          "data": {
            "text/plain": [
              "TestResults(failed=3, attempted=3)"
            ]
          },
          "metadata": {},
          "execution_count": 20
        }
      ],
      "source": [
        "import doctest\n",
        "\n",
        "doctest.testmod(verbose=True)"
      ]
    }
  ],
  "metadata": {
    "kernelspec": {
      "display_name": "icd",
      "language": "python",
      "name": "icd"
    },
    "language_info": {
      "codemirror_mode": {
        "name": "ipython",
        "version": 3
      },
      "file_extension": ".py",
      "mimetype": "text/x-python",
      "name": "python",
      "nbconvert_exporter": "python",
      "pygments_lexer": "ipython3",
      "version": "3.7.7"
    },
    "colab": {
      "name": "03_Exercício_Yhasmim_Tigre_NumPy.ipynb",
      "provenance": [],
      "collapsed_sections": []
    }
  },
  "nbformat": 4,
  "nbformat_minor": 0
}